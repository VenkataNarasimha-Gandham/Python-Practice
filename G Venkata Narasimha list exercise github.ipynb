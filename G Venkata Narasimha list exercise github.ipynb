{
 "cells": [
  {
   "cell_type": "markdown",
   "id": "7bf4b030",
   "metadata": {},
   "source": [
    "1\\. Write a Python program to sum all the items and multiply all the\n",
    "items\n",
    "\n",
    "2\\. Write a Python function that takes two lists and returns True if\n",
    "they have at least one common member.  \n",
    "**Example:**\n",
    "\n",
    "\\[1,2,3,4,5\\], \\[5,6,7,8,9\\] = True\n",
    "\n",
    "\\[1,2,3,4,5\\], \\[6,7,8,9\\] = None\n",
    "\n",
    "3\\. Write a Python program to compute the difference between two lists.\n",
    "\n",
    "**Sample data:** \\[\"red\", \"orange\", \"green\", \"blue\", \"white\"\\],\n",
    "\\[\"black\", \"yellow\", \"green\", \"blue\"\\]\n",
    "\n",
    "**Expected Output:**\n",
    "\n",
    "Color1-Color2: \\['white', 'orange', 'red'\\]\n",
    "\n",
    "Color2-Color1: \\['black', 'yellow'\\]"
   ]
  },
  {
   "cell_type": "markdown",
   "id": "2de2b3ab",
   "metadata": {},
   "source": [
    "1. **Write a Python program to sum all the items and multiply all the items**"
   ]
  },
  {
   "cell_type": "code",
   "execution_count": 1,
   "id": "e312d3a5",
   "metadata": {},
   "outputs": [
    {
     "name": "stdout",
     "output_type": "stream",
     "text": [
      "15\n"
     ]
    }
   ],
   "source": [
    "l1=[1,2,3,4,5]   #sum of all numbers\n",
    "k=0\n",
    "for i in l1:\n",
    "    k+=i\n",
    "print(k)"
   ]
  },
  {
   "cell_type": "code",
   "execution_count": 3,
   "id": "bacad414",
   "metadata": {},
   "outputs": [
    {
     "name": "stdout",
     "output_type": "stream",
     "text": [
      "120\n"
     ]
    }
   ],
   "source": [
    "l1=[1,2,3,4,5]   #multiplication of all numbers\n",
    "k=1\n",
    "for i in l1:\n",
    "    k*=i\n",
    "print(k)"
   ]
  },
  {
   "cell_type": "markdown",
   "id": "0699b1fe",
   "metadata": {},
   "source": [
    "2. **Write a Python function that takes two lists and returns True if they have at least one common member.**"
   ]
  },
  {
   "cell_type": "code",
   "execution_count": 15,
   "id": "a977a286",
   "metadata": {},
   "outputs": [
    {
     "name": "stdout",
     "output_type": "stream",
     "text": [
      "enter a list 1(should seperated by commas):1,2,3,4\n",
      "enter a list 1(should seperated by commas):7,8,9,0\n",
      "none\n"
     ]
    }
   ],
   "source": [
    "l1=list(input(\"enter a list 1(should seperated by commas):\"))\n",
    "l2=list(input(\"enter a list 1(should seperated by commas):\"))\n",
    "def iscommon(l1,l2):\n",
    "    if i in l2:\n",
    "        print(True)\n",
    "    else:\n",
    "        print(\"none\")\n",
    "iscommon(l1,l2)"
   ]
  },
  {
   "cell_type": "markdown",
   "id": "06202c2d",
   "metadata": {},
   "source": [
    "3. **Write a Python program to compute the difference between two lists.**"
   ]
  },
  {
   "cell_type": "code",
   "execution_count": 68,
   "id": "b1d437bd",
   "metadata": {},
   "outputs": [
    {
     "data": {
      "text/plain": [
       "['red', 'orange', 'white']"
      ]
     },
     "execution_count": 68,
     "metadata": {},
     "output_type": "execute_result"
    }
   ],
   "source": [
    "c1=[\"red\", \"orange\", \"green\", \"blue\", \"white\"] #c1-c2\n",
    "c2=[\"black\", \"yellow\", \"green\", \"blue\"]\n",
    "k= []\n",
    "for i in c1:\n",
    "    if i not in c2:\n",
    "        k.append(i)\n",
    "k"
   ]
  },
  {
   "cell_type": "code",
   "execution_count": 69,
   "id": "050a9e4a",
   "metadata": {},
   "outputs": [
    {
     "data": {
      "text/plain": [
       "['black', 'yellow']"
      ]
     },
     "execution_count": 69,
     "metadata": {},
     "output_type": "execute_result"
    }
   ],
   "source": [
    "c1=[\"red\", \"orange\", \"green\", \"blue\", \"white\"] #c2-c1\n",
    "c2=[\"black\", \"yellow\", \"green\", \"blue\"]\n",
    "k= []\n",
    "for i in c2:\n",
    "    if i not in c1:\n",
    "        k.append(i)\n",
    "k"
   ]
  }
 ],
 "metadata": {
  "kernelspec": {
   "display_name": "Python 3 (ipykernel)",
   "language": "python",
   "name": "python3"
  },
  "language_info": {
   "codemirror_mode": {
    "name": "ipython",
    "version": 3
   },
   "file_extension": ".py",
   "mimetype": "text/x-python",
   "name": "python",
   "nbconvert_exporter": "python",
   "pygments_lexer": "ipython3",
   "version": "3.9.13"
  }
 },
 "nbformat": 4,
 "nbformat_minor": 5
}
