{
 "cells": [
  {
   "cell_type": "markdown",
   "id": "d633a8c7",
   "metadata": {},
   "source": [
    "> **1.Write a python program to convert a string to lower case**"
   ]
  },
  {
   "cell_type": "code",
   "execution_count": 1,
   "id": "4c77740a",
   "metadata": {},
   "outputs": [
    {
     "data": {
      "text/plain": [
       "'hello world!'"
      ]
     },
     "execution_count": 1,
     "metadata": {},
     "output_type": "execute_result"
    }
   ],
   "source": [
    "string=\"HELLO WORLD!\"\n",
    "string.lower()"
   ]
  },
  {
   "cell_type": "markdown",
   "id": "b0b917d5",
   "metadata": {},
   "source": [
    "**2.Write a python program to convert only odd indexed characters to lower case**"
   ]
  },
  {
   "cell_type": "code",
   "execution_count": 21,
   "id": "83a00180",
   "metadata": {},
   "outputs": [
    {
     "name": "stdout",
     "output_type": "stream",
     "text": [
      "PyThOn\n"
     ]
    }
   ],
   "source": [
    "s=\"PYTHON\"\n",
    "k=\"\"\n",
    "for i in range(0,len(s)):\n",
    "    if i%2==0:\n",
    "        k+=s[i].upper()\n",
    "    if i%2!=0:\n",
    "        k+=s[i].lower()\n",
    "print(k)"
   ]
  },
  {
   "cell_type": "markdown",
   "id": "a7b2ec56",
   "metadata": {},
   "source": [
    "**3.Write a python program to convert only even indexed characters to\n",
    " lower case**"
   ]
  },
  {
   "cell_type": "code",
   "execution_count": 22,
   "id": "4eb6b922",
   "metadata": {},
   "outputs": [
    {
     "name": "stdout",
     "output_type": "stream",
     "text": [
      "pYtHoN\n"
     ]
    }
   ],
   "source": [
    "s=\"PYTHON\"\n",
    "k=\"\"\n",
    "for i in range(0,len(s)):\n",
    "    if i%2==0:\n",
    "        k+=s[i].lower()\n",
    "    if i%2!=0:\n",
    "        k+=s[i].upper()\n",
    "print(k)"
   ]
  },
  {
   "cell_type": "markdown",
   "id": "2baa71bb",
   "metadata": {},
   "source": [
    "**4.Write a python program to convert only odd indexed characters to\n",
    " upper case**"
   ]
  },
  {
   "cell_type": "code",
   "execution_count": 24,
   "id": "45e1c690",
   "metadata": {},
   "outputs": [
    {
     "name": "stdout",
     "output_type": "stream",
     "text": [
      "pYtHoN\n"
     ]
    }
   ],
   "source": [
    "s=\"python\"\n",
    "k=\"\"\n",
    "for i in range(0,len(s)):\n",
    "    if i%2==0:\n",
    "        k+=s[i].lower()\n",
    "    if i%2!=0:\n",
    "        k+=s[i].upper()\n",
    "print(k)"
   ]
  },
  {
   "cell_type": "markdown",
   "id": "e202078d",
   "metadata": {},
   "source": [
    "**5.Write a python program to convert only even indexed characters to\n",
    " upper case**"
   ]
  },
  {
   "cell_type": "code",
   "execution_count": 25,
   "id": "bdc35e6f",
   "metadata": {},
   "outputs": [
    {
     "name": "stdout",
     "output_type": "stream",
     "text": [
      "PyThOn\n"
     ]
    }
   ],
   "source": [
    "s=\"python\"\n",
    "k=\"\"\n",
    "for i in range(0,len(s)):\n",
    "    if i%2!=0:\n",
    "        k+=s[i].lower()\n",
    "    if i%2==0:\n",
    "        k+=s[i].upper()\n",
    "print(k)"
   ]
  },
  {
   "cell_type": "markdown",
   "id": "63266a4e",
   "metadata": {},
   "source": [
    "**6.Write a python program where you have different variable which\n",
    " contains your** **name, gender, age, phone number, father’s name and\n",
    " mother’s name.**"
   ]
  },
  {
   "cell_type": "code",
   "execution_count": 36,
   "id": "9ab34d86",
   "metadata": {},
   "outputs": [
    {
     "name": "stdout",
     "output_type": "stream",
     "text": [
      "enter your name:venkatesh\n",
      "My name is venkatesh \n",
      "enter your age:27\n",
      "My age is 27 \n",
      "enter your mobile number:9154846020\n",
      "My phone-no is 9154846020 \n",
      "enter your father name:lachanna\n",
      "my father’s name is lachanna \n",
      "enter your mother name:narsamma\n",
      "and my mother’s name is narsamma \n"
     ]
    }
   ],
   "source": [
    "name=input(\"enter your name:\")\n",
    "print(\"My name is {} \".format(name))\n",
    "age=int(input(\"enter your age:\"))\n",
    "print(\"My age is {} \".format(age))\n",
    "phone=int(input(\"enter your mobile number:\"))\n",
    "print(\"My phone-no is {} \".format(phone))\n",
    "father=input(\"enter your father name:\")\n",
    "print(\"my father’s name is {} \".format(father))\n",
    "mother=input(\"enter your mother name:\")\n",
    "print(\"and my mother’s name is {} \".format(mother))"
   ]
  },
  {
   "cell_type": "markdown",
   "id": "078a0265",
   "metadata": {},
   "source": [
    "7.**Write a python program to count how many times “@” occurred**"
   ]
  },
  {
   "cell_type": "code",
   "execution_count": 40,
   "id": "21d05eec",
   "metadata": {},
   "outputs": [
    {
     "data": {
      "text/plain": [
       "2"
      ]
     },
     "execution_count": 40,
     "metadata": {},
     "output_type": "execute_result"
    }
   ],
   "source": [
    "s=\"s@ndhy@\"\n",
    "s.count(\"@\")"
   ]
  },
  {
   "cell_type": "markdown",
   "id": "aefb6eb8",
   "metadata": {},
   "source": [
    "**8.Write a python program to get only names from the string**"
   ]
  },
  {
   "cell_type": "code",
   "execution_count": 144,
   "id": "fe6a6f83",
   "metadata": {},
   "outputs": [
    {
     "name": "stdout",
     "output_type": "stream",
     "text": [
      "[\"['name1.\"' name2.\"' name3.\"\n"
     ]
    }
   ],
   "source": [
    "strn=\"name1.@gmail.com, name2.@gmail.com, name3.@gmail.com\"\n",
    "kl=str(k).split(\"@\")\n",
    "skl=str(kl).split(\",\")\n",
    "n=\"\"\n",
    "for i in range(0,len(skl)):\n",
    "    if i%2==0:\n",
    "        n+=skl[i].strip()\n",
    "print(n)"
   ]
  },
  {
   "cell_type": "markdown",
   "id": "fbced4dd",
   "metadata": {},
   "source": [
    "**9.Write a program to remove vowels from the entire alphabets**"
   ]
  },
  {
   "cell_type": "code",
   "execution_count": 160,
   "id": "5cbce314",
   "metadata": {},
   "outputs": [
    {
     "name": "stdout",
     "output_type": "stream",
     "text": [
      "bcdfghjklmnpqrstvwxyz"
     ]
    }
   ],
   "source": [
    "alph=\"abcdefghijklmnopqrstuvwxyz\"\n",
    "for i in alph:\n",
    "    if i!= \"a\" and i!=\"e\" and i!=\"i\" and i!=\"o\" and i!=\"u\":\n",
    "        print(i,end=\"\")"
   ]
  },
  {
   "cell_type": "markdown",
   "id": "30d346df",
   "metadata": {},
   "source": [
    "**10.Find all occurrences of a substring in a given string by ignoring\n",
    " the case**"
   ]
  },
  {
   "cell_type": "code",
   "execution_count": 167,
   "id": "5c592bc3",
   "metadata": {},
   "outputs": [
    {
     "name": "stdout",
     "output_type": "stream",
     "text": [
      "enter any word in the line 'Welcome to Innomatics. innomatics awesome, isn't it?':innomatics\n",
      "2\n"
     ]
    }
   ],
   "source": [
    "str1=\"Welcome to Innomatics. innomatics awesome, isn't it?\"\n",
    "inp=input(\"enter any word in the line 'Welcome to Innomatics. innomatics awesome, isn't it?':\").upper()\n",
    "str1_u=str1.upper()\n",
    "if inp in str1_u:\n",
    "    print(str1_u.count(inp))"
   ]
  },
  {
   "cell_type": "code",
   "execution_count": null,
   "id": "8437f2f0",
   "metadata": {},
   "outputs": [],
   "source": []
  }
 ],
 "metadata": {
  "kernelspec": {
   "display_name": "Python 3 (ipykernel)",
   "language": "python",
   "name": "python3"
  },
  "language_info": {
   "codemirror_mode": {
    "name": "ipython",
    "version": 3
   },
   "file_extension": ".py",
   "mimetype": "text/x-python",
   "name": "python",
   "nbconvert_exporter": "python",
   "pygments_lexer": "ipython3",
   "version": "3.9.13"
  }
 },
 "nbformat": 4,
 "nbformat_minor": 5
}
