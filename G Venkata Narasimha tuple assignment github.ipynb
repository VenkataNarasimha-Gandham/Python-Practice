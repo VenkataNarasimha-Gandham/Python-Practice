{
 "cells": [
  {
   "cell_type": "markdown",
   "id": "8ea9f095",
   "metadata": {},
   "source": [
    "\n",
    "1.\tFind elements frequency in Tuple\n",
    "\n",
    "Sample Input: (4, 5, 4, 5, 6, 6, 5) \n",
    "Output : {4: 2, 5: 3, 6: 2} \n",
    "\n",
    "2.\tPython program to sort a list of tuples alphabetically\n",
    "Input: [(\"aaaa\", 28), (\"aa\", 30), (\"bab\", 29), (\"bb\", 21), (\"csa\", \"C\")]\n",
    "Output: [('aa', 30), ('aaaa', 28), ('bab', 29), ('bb', 21), ('csa', 'C')]\n",
    "\n",
    "3.\tWrite a Python program to calculate the average value of the numbers in a given tuple of tuples\n",
    "\n",
    "Original Tuple:  ((1, 1, -5), (30, -15, 56), (81, -60, -39), (-10, 2, 3))\n",
    "          Average value of the numbers of the said tuple of tuples:\n",
    "\t[25.5, -18.0, 3.75]\n",
    "\n"
   ]
  },
  {
   "cell_type": "code",
   "execution_count": 4,
   "id": "10c33e23",
   "metadata": {},
   "outputs": [
    {
     "data": {
      "text/plain": [
       "{4: 2, 5: 3, 6: 2}"
      ]
     },
     "execution_count": 4,
     "metadata": {},
     "output_type": "execute_result"
    }
   ],
   "source": [
    "tu=(4, 5, 4, 5, 6, 6, 5)\n",
    "fre={}\n",
    "for i in tu:\n",
    "    fre.update({i:tu.count(i)})\n",
    "fre"
   ]
  },
  {
   "cell_type": "code",
   "execution_count": 5,
   "id": "f439072d",
   "metadata": {},
   "outputs": [],
   "source": [
    "l=[(\"aaaa\", 28), (\"aa\", 30), (\"bab\", 29), (\"bb\", 21), (\"csa\", \"C\")]\n",
    "l.sort()"
   ]
  },
  {
   "cell_type": "code",
   "execution_count": 6,
   "id": "fd64cfc2",
   "metadata": {},
   "outputs": [
    {
     "data": {
      "text/plain": [
       "[('aa', 30), ('aaaa', 28), ('bab', 29), ('bb', 21), ('csa', 'C')]"
      ]
     },
     "execution_count": 6,
     "metadata": {},
     "output_type": "execute_result"
    }
   ],
   "source": [
    "l"
   ]
  },
  {
   "cell_type": "code",
   "execution_count": 25,
   "id": "2ad65778",
   "metadata": {},
   "outputs": [
    {
     "data": {
      "text/plain": [
       "[25.5, -18.0, 3.75]"
      ]
     },
     "execution_count": 25,
     "metadata": {},
     "output_type": "execute_result"
    }
   ],
   "source": [
    "tt=((1, 1, -5), (30, -15, 56), (81, -60, -39), (-10, 2, 3))\n",
    "average=[a1,a2,a3]\n",
    "a1=0\n",
    "a2=0\n",
    "a3=0\n",
    "for i in tt:\n",
    "    a1+=i[0]\n",
    "    a2+=i[1]\n",
    "    a3+=i[2]\n",
    "average"
   ]
  }
 ],
 "metadata": {
  "kernelspec": {
   "display_name": "Python 3 (ipykernel)",
   "language": "python",
   "name": "python3"
  },
  "language_info": {
   "codemirror_mode": {
    "name": "ipython",
    "version": 3
   },
   "file_extension": ".py",
   "mimetype": "text/x-python",
   "name": "python",
   "nbconvert_exporter": "python",
   "pygments_lexer": "ipython3",
   "version": "3.9.13"
  }
 },
 "nbformat": 4,
 "nbformat_minor": 5
}
